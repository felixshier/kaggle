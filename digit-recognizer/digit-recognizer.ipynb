{
 "cells": [
  {
   "cell_type": "code",
   "execution_count": 1,
   "metadata": {
    "_cell_guid": "b1076dfc-b9ad-4769-8c92-a6c4dae69d19",
    "_uuid": "8f2839f25d086af736a60e9eeb907d3b93b6e0e5",
    "execution": {
     "iopub.execute_input": "2020-12-13T09:02:32.214423Z",
     "iopub.status.busy": "2020-12-13T09:02:32.213473Z",
     "iopub.status.idle": "2020-12-13T09:02:37.650470Z",
     "shell.execute_reply": "2020-12-13T09:02:37.651722Z"
    },
    "papermill": {
     "duration": 5.455439,
     "end_time": "2020-12-13T09:02:37.651970",
     "exception": false,
     "start_time": "2020-12-13T09:02:32.196531",
     "status": "completed"
    },
    "tags": []
   },
   "outputs": [
    {
     "name": "stdout",
     "output_type": "stream",
     "text": [
      "/kaggle/input/digit-recognizer/sample_submission.csv\n",
      "/kaggle/input/digit-recognizer/train.csv\n",
      "/kaggle/input/digit-recognizer/test.csv\n"
     ]
    }
   ],
   "source": [
    "# This Python 3 environment comes with many helpful analytics libraries installed\n",
    "# It is defined by the kaggle/python Docker image: https://github.com/kaggle/docker-python\n",
    "# For example, here's several helpful packages to load\n",
    "\n",
    "import numpy as np # linear algebra\n",
    "from numpy import genfromtxt\n",
    "import pandas as pd # data processing, CSV file I/O (e.g. pd.read_csv)\n",
    "import tensorflow as tf\n",
    "from keras import layers\n",
    "from keras.utils import np_utils\n",
    "import matplotlib.pyplot as plt\n",
    "from sklearn.model_selection import train_test_split\n",
    "from keras.callbacks import EarlyStopping\n",
    "from keras.datasets import mnist\n",
    "# Input data files are available in the read-only \"../input/\" directory\n",
    "# For example, running this (by clicking run or pressing Shift+Enter) will list all files under the input directory\n",
    "\n",
    "import os\n",
    "for dirname, _, filenames in os.walk('/kaggle/input'):\n",
    "    for filename in filenames:\n",
    "        print(os.path.join(dirname, filename))\n",
    "\n",
    "# You can write up to 20GB to the current directory (/kaggle/working/) that gets preserved as output when you create a version using \"Save & Run All\" \n",
    "# You can also write temporary files to /kaggle/temp/, but they won't be saved outside of the current session"
   ]
  },
  {
   "cell_type": "code",
   "execution_count": 2,
   "metadata": {
    "execution": {
     "iopub.execute_input": "2020-12-13T09:02:37.684642Z",
     "iopub.status.busy": "2020-12-13T09:02:37.680765Z",
     "iopub.status.idle": "2020-12-13T09:03:46.688398Z",
     "shell.execute_reply": "2020-12-13T09:03:46.687321Z"
    },
    "papermill": {
     "duration": 69.026313,
     "end_time": "2020-12-13T09:03:46.688531",
     "exception": false,
     "start_time": "2020-12-13T09:02:37.662218",
     "status": "completed"
    },
    "tags": []
   },
   "outputs": [
    {
     "name": "stdout",
     "output_type": "stream",
     "text": [
      "Downloading data from https://storage.googleapis.com/tensorflow/tf-keras-datasets/mnist.npz\n",
      "11493376/11490434 [==============================] - 0s 0us/step\n"
     ]
    }
   ],
   "source": [
    "(x_train, y_train), (x_test, y_test) = mnist.load_data()\n",
    "training_data = genfromtxt(os.path.join(dirname, filenames[1]), delimiter=',', skip_header = 1)\n",
    "\n",
    "X_test = genfromtxt(os.path.join(dirname, filenames[2]), delimiter=',', skip_header = 1)\n",
    "X_test = X_test.reshape(X_test.shape[0], 28 ,28, 1)\n",
    "X_test = tf.keras.utils.normalize(X_test, axis = 1)\n",
    "\n",
    "Y = training_data[:,0]\n",
    "Y = np.concatenate((Y, y_train, y_test))\n",
    "Y = np_utils.to_categorical(Y)\n",
    "\n",
    "X = training_data[:,1:]\n",
    "X = np.reshape(X, (-1, 28, 28))\n",
    "X = np.concatenate((X, x_train, x_test))\n",
    "X = X.reshape(X.shape[0], 28 ,28, 1)\n",
    "X = tf.keras.utils.normalize(X, axis = 1)\n",
    "\n",
    "X_train, X_val, Y_train, Y_val = train_test_split(X, Y, test_size = 0.2, random_state = 0)"
   ]
  },
  {
   "cell_type": "code",
   "execution_count": 3,
   "metadata": {
    "execution": {
     "iopub.execute_input": "2020-12-13T09:03:46.722482Z",
     "iopub.status.busy": "2020-12-13T09:03:46.721658Z",
     "iopub.status.idle": "2020-12-13T09:20:25.769064Z",
     "shell.execute_reply": "2020-12-13T09:20:25.768474Z"
    },
    "papermill": {
     "duration": 999.072344,
     "end_time": "2020-12-13T09:20:25.769220",
     "exception": false,
     "start_time": "2020-12-13T09:03:46.696876",
     "status": "completed"
    },
    "tags": []
   },
   "outputs": [
    {
     "name": "stdout",
     "output_type": "stream",
     "text": [
      "Epoch 1/64\n",
      "2800/2800 [==============================] - 24s 8ms/step - loss: 0.1877 - categorical_accuracy: 0.9462 - val_loss: 0.0785 - val_categorical_accuracy: 0.9800\n",
      "Epoch 2/64\n",
      "2800/2800 [==============================] - 23s 8ms/step - loss: 0.0834 - categorical_accuracy: 0.9780 - val_loss: 0.0636 - val_categorical_accuracy: 0.9833\n",
      "Epoch 3/64\n",
      "2800/2800 [==============================] - 22s 8ms/step - loss: 0.0641 - categorical_accuracy: 0.9836 - val_loss: 0.0256 - val_categorical_accuracy: 0.9933\n",
      "Epoch 4/64\n",
      "2800/2800 [==============================] - 23s 8ms/step - loss: 0.0518 - categorical_accuracy: 0.9869 - val_loss: 0.0268 - val_categorical_accuracy: 0.9934\n",
      "Epoch 5/64\n",
      "2800/2800 [==============================] - 22s 8ms/step - loss: 0.0408 - categorical_accuracy: 0.9895 - val_loss: 0.0236 - val_categorical_accuracy: 0.9937\n",
      "Epoch 6/64\n",
      "2800/2800 [==============================] - 23s 8ms/step - loss: 0.0343 - categorical_accuracy: 0.9911 - val_loss: 0.0326 - val_categorical_accuracy: 0.9914\n",
      "Epoch 7/64\n",
      "2800/2800 [==============================] - 22s 8ms/step - loss: 0.0298 - categorical_accuracy: 0.9926 - val_loss: 0.0156 - val_categorical_accuracy: 0.9962\n",
      "Epoch 8/64\n",
      "2800/2800 [==============================] - 22s 8ms/step - loss: 0.0264 - categorical_accuracy: 0.9933 - val_loss: 0.0208 - val_categorical_accuracy: 0.9947\n",
      "Epoch 9/64\n",
      "2800/2800 [==============================] - 23s 8ms/step - loss: 0.0240 - categorical_accuracy: 0.9941 - val_loss: 0.0207 - val_categorical_accuracy: 0.9950\n",
      "Epoch 10/64\n",
      "2800/2800 [==============================] - 22s 8ms/step - loss: 0.0192 - categorical_accuracy: 0.9952 - val_loss: 0.0255 - val_categorical_accuracy: 0.9934\n",
      "Epoch 11/64\n",
      "2800/2800 [==============================] - 22s 8ms/step - loss: 0.0175 - categorical_accuracy: 0.9957 - val_loss: 0.0224 - val_categorical_accuracy: 0.9947\n",
      "Epoch 12/64\n",
      "2800/2800 [==============================] - 23s 8ms/step - loss: 0.0181 - categorical_accuracy: 0.9955 - val_loss: 0.0205 - val_categorical_accuracy: 0.9955\n",
      "Epoch 13/64\n",
      "2800/2800 [==============================] - 22s 8ms/step - loss: 0.0149 - categorical_accuracy: 0.9961 - val_loss: 0.0207 - val_categorical_accuracy: 0.9964\n",
      "Epoch 14/64\n",
      "2800/2800 [==============================] - 23s 8ms/step - loss: 0.0135 - categorical_accuracy: 0.9967 - val_loss: 0.0241 - val_categorical_accuracy: 0.9958\n",
      "Epoch 15/64\n",
      "2800/2800 [==============================] - 22s 8ms/step - loss: 0.0126 - categorical_accuracy: 0.9966 - val_loss: 0.0193 - val_categorical_accuracy: 0.9964\n",
      "Epoch 16/64\n",
      "2800/2800 [==============================] - 23s 8ms/step - loss: 0.0114 - categorical_accuracy: 0.9972 - val_loss: 0.0184 - val_categorical_accuracy: 0.9965\n",
      "Epoch 17/64\n",
      "2800/2800 [==============================] - 23s 8ms/step - loss: 0.0094 - categorical_accuracy: 0.9977 - val_loss: 0.0186 - val_categorical_accuracy: 0.9967\n",
      "Epoch 18/64\n",
      "2800/2800 [==============================] - 22s 8ms/step - loss: 0.0116 - categorical_accuracy: 0.9973 - val_loss: 0.0210 - val_categorical_accuracy: 0.9967\n",
      "Epoch 19/64\n",
      "2800/2800 [==============================] - 22s 8ms/step - loss: 0.0089 - categorical_accuracy: 0.9979 - val_loss: 0.0186 - val_categorical_accuracy: 0.9972\n",
      "Epoch 20/64\n",
      "2800/2800 [==============================] - 22s 8ms/step - loss: 0.0094 - categorical_accuracy: 0.9976 - val_loss: 0.0653 - val_categorical_accuracy: 0.9972\n",
      "Epoch 21/64\n",
      "2800/2800 [==============================] - 23s 8ms/step - loss: 0.0094 - categorical_accuracy: 0.9978 - val_loss: 0.0182 - val_categorical_accuracy: 0.9968\n",
      "Epoch 22/64\n",
      "2800/2800 [==============================] - 24s 9ms/step - loss: 0.0087 - categorical_accuracy: 0.9980 - val_loss: 0.0178 - val_categorical_accuracy: 0.9979\n",
      "Epoch 23/64\n",
      "2800/2800 [==============================] - 22s 8ms/step - loss: 0.0078 - categorical_accuracy: 0.9980 - val_loss: 0.0209 - val_categorical_accuracy: 0.9962\n",
      "Epoch 24/64\n",
      "2800/2800 [==============================] - 22s 8ms/step - loss: 0.0067 - categorical_accuracy: 0.9984 - val_loss: 0.0145 - val_categorical_accuracy: 0.9972\n",
      "Epoch 25/64\n",
      "2800/2800 [==============================] - 24s 9ms/step - loss: 0.0068 - categorical_accuracy: 0.9984 - val_loss: 0.0245 - val_categorical_accuracy: 0.9963\n",
      "Epoch 26/64\n",
      "2800/2800 [==============================] - 22s 8ms/step - loss: 0.0082 - categorical_accuracy: 0.9982 - val_loss: 0.0160 - val_categorical_accuracy: 0.9969\n",
      "Epoch 27/64\n",
      "2800/2800 [==============================] - 21s 8ms/step - loss: 0.0056 - categorical_accuracy: 0.9987 - val_loss: 0.0215 - val_categorical_accuracy: 0.9971\n",
      "Epoch 28/64\n",
      "2800/2800 [==============================] - 24s 8ms/step - loss: 0.0069 - categorical_accuracy: 0.9983 - val_loss: 0.0509 - val_categorical_accuracy: 0.9975\n",
      "Epoch 29/64\n",
      "2800/2800 [==============================] - 22s 8ms/step - loss: 0.0076 - categorical_accuracy: 0.9984 - val_loss: 0.0200 - val_categorical_accuracy: 0.9970\n",
      "Epoch 30/64\n",
      "2800/2800 [==============================] - 23s 8ms/step - loss: 0.0056 - categorical_accuracy: 0.9987 - val_loss: 0.0236 - val_categorical_accuracy: 0.9979\n",
      "Epoch 31/64\n",
      "2800/2800 [==============================] - 23s 8ms/step - loss: 0.0048 - categorical_accuracy: 0.9989 - val_loss: 0.1451 - val_categorical_accuracy: 0.9962\n",
      "Epoch 32/64\n",
      "2800/2800 [==============================] - 22s 8ms/step - loss: 0.0068 - categorical_accuracy: 0.9984 - val_loss: 0.1023 - val_categorical_accuracy: 0.9971\n",
      "Epoch 33/64\n",
      "2800/2800 [==============================] - 22s 8ms/step - loss: 0.0050 - categorical_accuracy: 0.9987 - val_loss: 0.0355 - val_categorical_accuracy: 0.9953\n",
      "Epoch 34/64\n",
      "2800/2800 [==============================] - 23s 8ms/step - loss: 0.0056 - categorical_accuracy: 0.9987 - val_loss: 0.0209 - val_categorical_accuracy: 0.9971\n",
      "Epoch 35/64\n",
      "2800/2800 [==============================] - 22s 8ms/step - loss: 0.0050 - categorical_accuracy: 0.9986 - val_loss: 0.1536 - val_categorical_accuracy: 0.9972\n",
      "Epoch 36/64\n",
      "2800/2800 [==============================] - 22s 8ms/step - loss: 0.0053 - categorical_accuracy: 0.9987 - val_loss: 0.0372 - val_categorical_accuracy: 0.9968\n",
      "Epoch 37/64\n",
      "2800/2800 [==============================] - 22s 8ms/step - loss: 0.0048 - categorical_accuracy: 0.9989 - val_loss: 0.1332 - val_categorical_accuracy: 0.9969\n",
      "Epoch 38/64\n",
      "2800/2800 [==============================] - 23s 8ms/step - loss: 0.0052 - categorical_accuracy: 0.9989 - val_loss: 0.0860 - val_categorical_accuracy: 0.9975\n",
      "Epoch 39/64\n",
      "2800/2800 [==============================] - 22s 8ms/step - loss: 0.0046 - categorical_accuracy: 0.9989 - val_loss: 0.1455 - val_categorical_accuracy: 0.9972\n",
      "Epoch 40/64\n",
      "2800/2800 [==============================] - 22s 8ms/step - loss: 0.0062 - categorical_accuracy: 0.9987 - val_loss: 0.0263 - val_categorical_accuracy: 0.9968\n",
      "Epoch 41/64\n",
      "2800/2800 [==============================] - 24s 9ms/step - loss: 0.0048 - categorical_accuracy: 0.9991 - val_loss: 0.0666 - val_categorical_accuracy: 0.9973\n",
      "Epoch 42/64\n",
      "2800/2800 [==============================] - 22s 8ms/step - loss: 0.0051 - categorical_accuracy: 0.9989 - val_loss: 0.0184 - val_categorical_accuracy: 0.9972\n",
      "Epoch 43/64\n",
      "2800/2800 [==============================] - 22s 8ms/step - loss: 0.0040 - categorical_accuracy: 0.9989 - val_loss: 0.0530 - val_categorical_accuracy: 0.9972\n",
      "Epoch 44/64\n",
      "2800/2800 [==============================] - 25s 9ms/step - loss: 0.0053 - categorical_accuracy: 0.9989 - val_loss: 0.2277 - val_categorical_accuracy: 0.9974\n"
     ]
    }
   ],
   "source": [
    "early_stopping = EarlyStopping(\n",
    "    min_delta=0.001, # minimium amount of change to count as an improvement\n",
    "    patience=20, # how many epochs to wait before stopping\n",
    "    restore_best_weights=True,\n",
    ")\n",
    "\n",
    "model = tf.keras.models.Sequential([\n",
    "    \n",
    "    # convolution block\n",
    "    layers.Conv2D(128, (3,3), input_shape = (28,28,1), activation = 'relu'),\n",
    "    layers.Conv2D(128, (3,3), activation = 'relu'),\n",
    "    layers.MaxPooling2D(pool_size = (2,2)),\n",
    "    layers.Conv2D(128, (5,5), activation = 'relu'),\n",
    "    layers.Conv2D(128, (5,5), activation = 'relu'),\n",
    "    layers.MaxPooling2D(pool_size = (2,2)),\n",
    "    \n",
    "    # classifier head\n",
    "    layers.Flatten(),\n",
    "    layers.BatchNormalization(),\n",
    "    layers.Dense(512, activation = tf.nn.relu),\n",
    "    layers.Dropout(0.2),\n",
    "    layers.BatchNormalization(),\n",
    "    layers.Dense(512, activation = tf.nn.relu),\n",
    "    layers.Dropout(0.2),\n",
    "    layers.BatchNormalization(),\n",
    "    layers.Dense(512, activation = tf.nn.relu),\n",
    "    layers.Dropout(0.2),\n",
    "    layers.BatchNormalization(),\n",
    "    layers.Dense(512, activation = tf.nn.relu),\n",
    "    layers.Dropout(0.2),\n",
    "    layers.Dense(10, activation = tf.nn.softmax)\n",
    "])\n",
    "\n",
    "model.compile(optimizer = 'adam',\n",
    "             loss = 'categorical_crossentropy',\n",
    "             metrics = ['categorical_accuracy'])\n",
    "\n",
    "history = model.fit(\n",
    "    X_train, \n",
    "    Y_train,\n",
    "    validation_data = (X_val, Y_val),\n",
    "    epochs = 64,\n",
    "    callbacks = [early_stopping]\n",
    "    )"
   ]
  },
  {
   "cell_type": "code",
   "execution_count": 4,
   "metadata": {
    "execution": {
     "iopub.execute_input": "2020-12-13T09:20:39.363604Z",
     "iopub.status.busy": "2020-12-13T09:20:39.362808Z",
     "iopub.status.idle": "2020-12-13T09:20:42.264719Z",
     "shell.execute_reply": "2020-12-13T09:20:42.264142Z"
    },
    "papermill": {
     "duration": 9.852109,
     "end_time": "2020-12-13T09:20:42.264838",
     "exception": false,
     "start_time": "2020-12-13T09:20:32.412729",
     "status": "completed"
    },
    "tags": []
   },
   "outputs": [
    {
     "name": "stdout",
     "output_type": "stream",
     "text": [
      "700/700 [==============================] - 2s 3ms/step - loss: 0.0145 - categorical_accuracy: 0.9972\n",
      "test loss, test acc: [0.014518799260258675, 0.9972321391105652]\n"
     ]
    },
    {
     "data": {
      "image/png": "[encoded data removed]",
      "text/plain": [
       "<Figure size 432x288 with 1 Axes>"
      ]
     },
     "metadata": {
      "needs_background": "light"
     },
     "output_type": "display_data"
    },
    {
     "data": {
      "image/png": "[encoded data removed]",
      "text/plain": [
       "<Figure size 432x288 with 1 Axes>"
      ]
     },
     "metadata": {
      "needs_background": "light"
     },
     "output_type": "display_data"
    }
   ],
   "source": [
    "history_frame = pd.DataFrame(history.history)\n",
    "history_frame.loc[1:, ['loss', 'val_loss']].plot()\n",
    "history_frame.loc[1:, ['categorical_accuracy', 'val_categorical_accuracy']].plot()\n",
    "\n",
    "scores = model.evaluate(X_val, Y_val)\n",
    "print(\"test loss, test acc:\", scores)"
   ]
  },
  {
   "cell_type": "code",
   "execution_count": 5,
   "metadata": {
    "execution": {
     "iopub.execute_input": "2020-12-13T09:20:56.293393Z",
     "iopub.status.busy": "2020-12-13T09:20:56.291916Z",
     "iopub.status.idle": "2020-12-13T09:21:01.428462Z",
     "shell.execute_reply": "2020-12-13T09:21:01.427342Z"
    },
    "papermill": {
     "duration": 11.791866,
     "end_time": "2020-12-13T09:21:01.428597",
     "exception": false,
     "start_time": "2020-12-13T09:20:49.636731",
     "status": "completed"
    },
    "tags": []
   },
   "outputs": [],
   "source": [
    "predictions = model.predict(X_test)\n",
    "Y_pred = predictions.argmax(axis = 1)\n",
    "ImageID = np.arange(len(Y_pred))+1\n",
    "submit = pd.DataFrame([ImageID,Y_pred]).T\n",
    "submit.rename(columns = {0:'ImageId', 1:'Label'})\n",
    "\n",
    "submit.to_csv('submission.csv', header =  ['ImageId', 'Label' ], index = None) "
   ]
  }
 ],
 "metadata": {
  "kernelspec": {
   "display_name": "Python 3",
   "language": "python",
   "name": "python3"
  },
  "language_info": {
   "codemirror_mode": {
    "name": "ipython",
    "version": 3
   },
   "file_extension": ".py",
   "mimetype": "text/x-python",
   "name": "python",
   "nbconvert_exporter": "python",
   "pygments_lexer": "ipython3",
   "version": "3.7.6"
  },
  "papermill": {
   "duration": 1122.349527,
   "end_time": "2020-12-13T09:21:10.221118",
   "environment_variables": {},
   "exception": null,
   "input_path": "__notebook__.ipynb",
   "output_path": "__notebook__.ipynb",
   "parameters": {},
   "start_time": "2020-12-13T09:02:27.871591",
   "version": "2.1.0"
  }
 },
 "nbformat": 4,
 "nbformat_minor": 4
}